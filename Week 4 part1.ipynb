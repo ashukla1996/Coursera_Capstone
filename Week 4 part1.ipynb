{
 "cells": [
  {
   "cell_type": "markdown",
   "metadata": {},
   "source": [
    "# **The Battle of Neighborhoods in New York City - Week 1**"
   ]
  },
  {
   "cell_type": "markdown",
   "metadata": {},
   "source": [
    "## *Segmenting and clustering neighborhoods in New York City to determine the most ideal location for a Caribbean cuisine restaurant* "
   ]
  },
  {
   "cell_type": "markdown",
   "metadata": {},
   "source": [
    "## **Problem Description and background**"
   ]
  },
  {
   "cell_type": "markdown",
   "metadata": {},
   "source": [
    "The city of New York is described as the most populous city in the United States (US) with an estimated population of 8.3 million people as at 2017. Located in the state of New York, New York City (NYC) is the center of the New York Metropolitan Area, the largest urban population area in the world by landmass. \n",
    "\n",
    "NYC consists of five boroughs: Brooklyn, Queens, Manhattan, The Bronx and Staten Island and is home to more than 3.2 million people born outside of the US. Given NYC's multi-cultural make-up and equally diverse culinary scene, it is the aim of this exercise to obtain and explore data regarding the neighborhoods in NYC in order to determine the optimum location to establish the first of a franchise chain of dedicated Caribbean cuisine restaurants. The success of the first establishment will determine the opening of other restaurant locations within the franchise chain. \n",
    "\n",
    "Currently, thousands of restaurants exist in NYC with varied menu offerings. The opening of a restaurant is a significant undertaking with a potentially huge profit, the success of which is dependent on choice of location including parking, accessibility and visibility, demand, population and neighboring competition. . There is a host of information available which may overwhelm an entrepreneur or investor. The cost of hiring a team of consultants to assist with the decision-making process may also be burdensome.  As part of formulating a business plan, data science methodologies will be applied to determine the most favorable NYC neighborhood to open the first restaurant of the Caribbean Cuisine franchise, with the following criteria in mind:\n",
    "\n",
    "1. Proximity to main roads and/or highways (central location)\n",
    "2. Public and private transport access and pedestrian traffic\n",
    "3. Security of area\n",
    "4. Access to parking lot\n",
    "5. Service menu competition\n",
    "6. Proximity to farmer's markets to obtain fresh produce daily \n",
    "7. Proximity to other vendors and suppliers \n",
    "8. Visibility of at least one historical landmark\n",
    "9. Proximity to highly populated neighborhoods\n",
    "\n",
    "The use of Foursquare location data and other dependencies will allow for potential investors to assess the feasibility of the proposal for a new restaurant presented by a budding young chef. The investors are willing to support a venture in a high-traffic neighborhood that is easily accessible and with minimal competition. "
   ]
  },
  {
   "cell_type": "markdown",
   "metadata": {},
   "source": [
    "## **Approach**"
   ]
  },
  {
   "cell_type": "markdown",
   "metadata": {},
   "source": [
    "In order to appropriate identify, sort, examine and present a solution to the problem of the most ideal location for a new Caribbean restaurant, the following approach will be applied:\n",
    "1. Download and explore dataset on the city of New York\n",
    "2. Load and explore neighborhoods of New York City using *FourSquare API* \n",
    "3. Analyze each neighborhood using *one hot encoding*, *geopy library* and *json*\n",
    "4. Cluster the neighborhoods using *k-means* into 3 clusters to determine similarities\n",
    "5. Examine each cluster based on the criteria outlined in the **Problem Description** section\n",
    "6. Create 3 profiles (one per cluster) considering the most common characteristics per cluster"
   ]
  },
  {
   "cell_type": "markdown",
   "metadata": {},
   "source": [
    "# **Data sources and description**"
   ]
  },
  {
   "cell_type": "markdown",
   "metadata": {},
   "source": [
    "Having downloaded all the dependencies (libraries) required, the following datasets will be accessed in order to upon the information required to be examined for decision making:\n",
    "1. The 5 boroughs and their accompanying neighborhoods will be downloaded using a *wget command*, with the dataset available at:  https://geo.nyu.edu/catalog/nyu_2451_34572\n",
    "2. Demographic details about NYC, available at: https://en.wikipedia.org/wiki/New_York_City\n",
    "3. Cuisines of NYC, available at: https://en.wikipedia.org/wiki/Cuisine_of_New_York_City\n",
    "\n",
    "The list of NYC neighborhoods and boroughs will first be retrieved and their corresponding latitude and longitude found using *GEOPY library*. These geographical coordinates will then be placed into *FourSquare* in order to obtain common venue categories and cuisine types and other variables in each neighborhood then grouped into clusters using *k-means* and importing folium library to visualize the neighborhoods. "
   ]
  },
  {
   "cell_type": "code",
   "execution_count": null,
   "metadata": {},
   "outputs": [],
   "source": []
  }
 ],
 "metadata": {
  "kernelspec": {
   "display_name": "Python 3",
   "language": "python",
   "name": "python3"
  },
  "language_info": {
   "codemirror_mode": {
    "name": "ipython",
    "version": 3
   },
   "file_extension": ".py",
   "mimetype": "text/x-python",
   "name": "python",
   "nbconvert_exporter": "python",
   "pygments_lexer": "ipython3",
   "version": "3.6.8"
  }
 },
 "nbformat": 4,
 "nbformat_minor": 2
}
